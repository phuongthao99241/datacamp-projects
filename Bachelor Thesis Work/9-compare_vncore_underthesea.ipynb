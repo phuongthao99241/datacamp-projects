{
 "cells": [
  {
   "cell_type": "markdown",
   "id": "8dd2d7ac",
   "metadata": {
    "_cell_guid": "b1076dfc-b9ad-4769-8c92-a6c4dae69d19",
    "_uuid": "8f2839f25d086af736a60e9eeb907d3b93b6e0e5",
    "execution": {
     "iopub.execute_input": "2022-11-22T03:40:14.900189Z",
     "iopub.status.busy": "2022-11-22T03:40:14.899704Z",
     "iopub.status.idle": "2022-11-22T03:40:14.977012Z",
     "shell.execute_reply": "2022-11-22T03:40:14.975594Z"
    },
    "papermill": {
     "duration": 0.088629,
     "end_time": "2022-11-22T03:40:14.981215",
     "exception": false,
     "start_time": "2022-11-22T03:40:14.892586",
     "status": "completed"
    },
    "tags": []
   },
   "source": [
    "# Comparison VnCoreNLP and underthesea - tokenizers for Vietnamese context"
   ]
  },
  {
   "cell_type": "markdown",
   "id": "c4fa226f",
   "metadata": {},
   "source": [
    "## Necessary steps to initialize VnCoreNLP"
   ]
  },
  {
   "cell_type": "code",
   "execution_count": null,
   "id": "22f87e69",
   "metadata": {},
   "outputs": [],
   "source": [
    "# This Python 3 environment comes with many helpful analytics libraries installed\n",
    "# It is defined by the kaggle/python Docker image: https://github.com/kaggle/docker-python\n",
    "# For example, here's several helpful packages to load\n",
    "\n",
    "import numpy as np # linear algebra\n",
    "import pandas as pd # data processing, CSV file I/O (e.g. pd.read_csv)\n",
    "\n",
    "# Input data files are available in the read-only \"../input/\" directory\n",
    "# For example, running this (by clicking run or pressing Shift+Enter) will list all files under the input directory\n",
    "\n",
    "import os\n",
    "for dirname, _, filenames in os.walk('/kaggle/input'):\n",
    "    for filename in filenames:\n",
    "        print(os.path.join(dirname, filename))\n",
    "\n",
    "# You can write up to 20GB to the current directory (/kaggle/working/) that gets preserved as output when you create a version using \"Save & Run All\" \n",
    "# You can also write temporary files to /kaggle/temp/, but they won't be saved outside of the current session"
   ]
  },
  {
   "cell_type": "code",
   "execution_count": 2,
   "id": "0270a0c0",
   "metadata": {
    "execution": {
     "iopub.execute_input": "2022-11-22T03:40:30.689921Z",
     "iopub.status.busy": "2022-11-22T03:40:30.689424Z",
     "iopub.status.idle": "2022-11-22T03:41:06.239084Z",
     "shell.execute_reply": "2022-11-22T03:41:06.237677Z"
    },
    "papermill": {
     "duration": 35.559563,
     "end_time": "2022-11-22T03:41:06.241739",
     "exception": false,
     "start_time": "2022-11-22T03:40:30.682176",
     "status": "completed"
    },
    "tags": []
   },
   "outputs": [],
   "source": [
    "from vncorenlp import VnCoreNLP\n",
    "\n",
    "vncorenlp = VnCoreNLP(\"/Users/thaonguyen/Downloads/VnCoreNLP-master/VnCoreNLP-1.2.jar\", annotators=\"wseg,pos,ner,parse\", max_heap_size='-Xmx2g')"
   ]
  },
  {
   "cell_type": "markdown",
   "id": "c239b09a",
   "metadata": {},
   "source": [
    "## Necessary steps to initialize underthesea"
   ]
  },
  {
   "cell_type": "code",
   "execution_count": 3,
   "id": "9fb7867f",
   "metadata": {},
   "outputs": [
    {
     "name": "stdout",
     "output_type": "stream",
     "text": [
      "Requirement already satisfied: underthesea in /opt/anaconda3/lib/python3.8/site-packages (6.8.0)\n",
      "Requirement already satisfied: Click>=6.0 in /opt/anaconda3/lib/python3.8/site-packages (from underthesea) (7.1.2)\n",
      "Requirement already satisfied: python-crfsuite>=0.9.6 in /opt/anaconda3/lib/python3.8/site-packages (from underthesea) (0.9.9)\n",
      "Requirement already satisfied: nltk in /Users/thaonguyen/.local/lib/python3.8/site-packages (from underthesea) (3.6.5)\n",
      "Requirement already satisfied: tqdm in /opt/anaconda3/lib/python3.8/site-packages (from underthesea) (4.59.0)\n",
      "Requirement already satisfied: requests in /opt/anaconda3/lib/python3.8/site-packages (from underthesea) (2.25.1)\n",
      "Requirement already satisfied: joblib in /opt/anaconda3/lib/python3.8/site-packages (from underthesea) (1.3.2)\n",
      "Requirement already satisfied: scikit-learn in /opt/anaconda3/lib/python3.8/site-packages (from underthesea) (1.3.2)\n",
      "Requirement already satisfied: PyYAML in /opt/anaconda3/lib/python3.8/site-packages (from underthesea) (5.4.1)\n",
      "Requirement already satisfied: underthesea-core==1.0.4 in /opt/anaconda3/lib/python3.8/site-packages (from underthesea) (1.0.4)\n",
      "Requirement already satisfied: regex>=2021.8.3 in /Users/thaonguyen/.local/lib/python3.8/site-packages (from nltk->underthesea) (2021.10.8)\n",
      "Requirement already satisfied: chardet<5,>=3.0.2 in /opt/anaconda3/lib/python3.8/site-packages (from requests->underthesea) (4.0.0)\n",
      "Requirement already satisfied: idna<3,>=2.5 in /opt/anaconda3/lib/python3.8/site-packages (from requests->underthesea) (2.10)\n",
      "Requirement already satisfied: urllib3<1.27,>=1.21.1 in /opt/anaconda3/lib/python3.8/site-packages (from requests->underthesea) (1.26.4)\n",
      "Requirement already satisfied: certifi>=2017.4.17 in /opt/anaconda3/lib/python3.8/site-packages (from requests->underthesea) (2020.12.5)\n",
      "Requirement already satisfied: numpy<2.0,>=1.17.3 in /Users/thaonguyen/.local/lib/python3.8/site-packages (from scikit-learn->underthesea) (1.21.2)\n",
      "Requirement already satisfied: scipy>=1.5.0 in /opt/anaconda3/lib/python3.8/site-packages (from scikit-learn->underthesea) (1.10.1)\n",
      "Requirement already satisfied: threadpoolctl>=2.0.0 in /opt/anaconda3/lib/python3.8/site-packages (from scikit-learn->underthesea) (2.1.0)\n",
      "\u001b[33mDEPRECATION: pyodbc 4.0.0-unsupported has a non-standard version number. pip 24.0 will enforce this behaviour change. A possible replacement is to upgrade to a newer version of pyodbc or contact the author to suggest that they release a version with a conforming version number. Discussion can be found at https://github.com/pypa/pip/issues/12063\u001b[0m\u001b[33m\n",
      "\u001b[0mNote: you may need to restart the kernel to use updated packages.\n"
     ]
    }
   ],
   "source": [
    "pip install underthesea"
   ]
  },
  {
   "cell_type": "markdown",
   "id": "763b6c4c",
   "metadata": {},
   "source": [
    "## Comparison on two examples from training data"
   ]
  },
  {
   "cell_type": "markdown",
   "id": "693f9662",
   "metadata": {},
   "source": [
    "### Example 1"
   ]
  },
  {
   "cell_type": "code",
   "execution_count": 4,
   "id": "130289d4",
   "metadata": {},
   "outputs": [
    {
     "data": {
      "text/plain": [
       "[['Sử_dụng', 'tốt', 'tin_học', 'văn_phòng', 'MS', 'Office', '.']]"
      ]
     },
     "execution_count": 4,
     "metadata": {},
     "output_type": "execute_result"
    }
   ],
   "source": [
    "vncorenlp.tokenize(\"Sử dụng tốt tin học văn phòng MS Office .\")"
   ]
  },
  {
   "cell_type": "code",
   "execution_count": 5,
   "id": "63f1acd6",
   "metadata": {},
   "outputs": [
    {
     "data": {
      "text/plain": [
       "['Sử dụng', 'tốt', 'tin học', 'văn phòng', 'MS Office', '.']"
      ]
     },
     "execution_count": 5,
     "metadata": {},
     "output_type": "execute_result"
    }
   ],
   "source": [
    "from underthesea import word_tokenize\n",
    "word_tokenize(\"Sử dụng tốt tin học văn phòng MS Office .\")"
   ]
  },
  {
   "cell_type": "markdown",
   "id": "b651c3e5",
   "metadata": {},
   "source": [
    "### Example 2"
   ]
  },
  {
   "cell_type": "code",
   "execution_count": 8,
   "id": "4e76841b",
   "metadata": {},
   "outputs": [
    {
     "data": {
      "text/plain": [
       "[['Sử_dụng', 'thành_thạo', 'các', 'công_cụ', 'thiết_kế', ':'],\n",
       " ['AI', ',', 'Photoshop', ',', 'AE', 'CC', ',', '…']]"
      ]
     },
     "execution_count": 8,
     "metadata": {},
     "output_type": "execute_result"
    }
   ],
   "source": [
    "vncorenlp.tokenize(\"Sử dụng thành thạo các công cụ thiết kế : AI , Photoshop , AE CC , …\")"
   ]
  },
  {
   "cell_type": "code",
   "execution_count": 9,
   "id": "d2d536cc",
   "metadata": {},
   "outputs": [
    {
     "data": {
      "text/plain": [
       "['Sử dụng',\n",
       " 'thành thạo',\n",
       " 'các',\n",
       " 'công cụ',\n",
       " 'thiết kế',\n",
       " ':',\n",
       " 'AI',\n",
       " ',',\n",
       " 'Photoshop',\n",
       " ',',\n",
       " 'AE CC',\n",
       " ',',\n",
       " '…']"
      ]
     },
     "execution_count": 9,
     "metadata": {},
     "output_type": "execute_result"
    }
   ],
   "source": [
    "word_tokenize(\"Sử dụng thành thạo các công cụ thiết kế : AI , Photoshop , AE CC , …\")"
   ]
  },
  {
   "cell_type": "code",
   "execution_count": null,
   "id": "6f097855",
   "metadata": {},
   "outputs": [],
   "source": []
  }
 ],
 "metadata": {
  "kernelspec": {
   "display_name": "Python 3",
   "language": "python",
   "name": "python3"
  },
  "language_info": {
   "codemirror_mode": {
    "name": "ipython",
    "version": 3
   },
   "file_extension": ".py",
   "mimetype": "text/x-python",
   "name": "python",
   "nbconvert_exporter": "python",
   "pygments_lexer": "ipython3",
   "version": "3.8.8"
  },
  "papermill": {
   "default_parameters": {},
   "duration": 100.864149,
   "end_time": "2022-11-22T03:41:46.144461",
   "environment_variables": {},
   "exception": null,
   "input_path": "__notebook__.ipynb",
   "output_path": "__notebook__.ipynb",
   "parameters": {},
   "start_time": "2022-11-22T03:40:05.280312",
   "version": "2.3.4"
  }
 },
 "nbformat": 4,
 "nbformat_minor": 5
}
